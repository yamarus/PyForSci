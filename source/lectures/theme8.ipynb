{
 "cells": [
  {
   "cell_type": "markdown",
   "metadata": {},
   "source": [
    "# Библиотека SciPy\n",
    "\n",
    "Библиотека ``scipy`` обладает большим функционалом для работы с данными (<a href='https://docs.scipy.org/doc/scipy/reference/'>документация</a>, <a href='https://scipy-lectures.org/'>полезный набор примеров</a>). \n",
    "\n",
    "Из основных модулей хочется выделить следующие:\n",
    "\n",
    "\n",
    "| модуль|функционал|\n",
    "|---|---|\n",
    "| ``scipy.linalg``      | Linear algebra |\n",
    "|``scipy.integrate`` | Integration and ODEs |\n",
    "|``scipy.optimize``| Optimization and root finding|\n",
    "|``scipy.signal`` |Signal processing|\n",
    "|``scipy.interpolate`` |Interpolation|\n",
    "|``scipy.fft`` | Discrete Fourier transforms|\n",
    "|``scipy.stats`` | Statistical functions|\n",
    "\n",
    "\n",
    "**Важно:** Документация расчитана на подготовленного читателя и для работы со многими модулями необходимо понимать хотя бы на базовом уровне как реализуются те, или иные методы.\n",
    "\n",
    "В данной лекции упор будет сделан именно на простейшие базовые математические концепции реализованные в библиотеки. Более подробнее можно почитать в <a href='https://docs.scipy.org/doc/scipy/reference/tutorial/index.html'>туториалах scipy</a>. Или еще где-нибудь. \n",
    "\n",
    "Рассмотрим пример использования данного модуля для простейшей линейной регресии ``scipy.stats.linregress``"
   ]
  },
  {
   "cell_type": "code",
   "execution_count": 1,
   "metadata": {},
   "outputs": [],
   "source": [
    "import numpy as np\n",
    "import matplotlib.pyplot as plt"
   ]
  },
  {
   "cell_type": "code",
   "execution_count": 20,
   "metadata": {},
   "outputs": [
    {
     "name": "stdout",
     "output_type": "stream",
     "text": [
      "LinregressResult(slope=1.9577740833558688, intercept=-2.9350803264444907, rvalue=0.997583231008488, pvalue=2.6477734411677076e-22, stderr=0.03214009781646125)\n"
     ]
    },
    {
     "data": {
      "image/png": "[encoded data removed]",
      "text/plain": [
       "<Figure size 432x288 with 1 Axes>"
      ]
     },
     "metadata": {},
     "output_type": "display_data"
    }
   ],
   "source": [
    "from scipy import stats\n",
    "\n",
    "#создаем линию\n",
    "x = np.linspace(-2,5,20)\n",
    "y = 2*x -3\n",
    "\n",
    "#добавляем шум\n",
    "y += np.random.random(20) - 0.5\n",
    "plt.plot(x,y, 'ks')\n",
    "\n",
    "#делаем линейную регрессию\n",
    "result = stats.linregress(x,y)\n",
    "\n",
    "#выводим результат\n",
    "print(result)\n",
    "\n",
    "#получаем параметры прямой\n",
    "a=result.slope\n",
    "b=result.intercept\n",
    "plt.text(2,-3,'$y = {:.4f} x {:+.4f}$'.format(a,b))\n",
    "\n",
    "#строим прямую\n",
    "fitted_y= result.slope*x +result.intercept\n",
    "plt.plot(x,fitted_y,'r-')\n",
    "\n",
    "plt.show()"
   ]
  },
  {
   "cell_type": "markdown",
   "metadata": {},
   "source": [
    "## Линейная алгебра (``scipy.linalg``)\n",
    "\n",
    "Примеры работы с данным модулем приводились ранее в разделе про NumPy. Хочется лишь еще раз отметить, что функционал ``scipy.linalg`` значительно обширнее одноименного модуля ``numpy``."
   ]
  },
  {
   "cell_type": "markdown",
   "metadata": {},
   "source": [
    "## Интегрирование и работа с обыкновенными дифференциальными уравнениями (``scipy.integrate``)\n",
    "\n"
   ]
  }
 ],
 "metadata": {
  "kernelspec": {
   "display_name": "Python 3",
   "language": "python",
   "name": "python3"
  },
  "language_info": {
   "codemirror_mode": {
    "name": "ipython",
    "version": 3
   },
   "file_extension": ".py",
   "mimetype": "text/x-python",
   "name": "python",
   "nbconvert_exporter": "python",
   "pygments_lexer": "ipython3",
   "version": "3.6.8"
  }
 },
 "nbformat": 4,
 "nbformat_minor": 2
}
