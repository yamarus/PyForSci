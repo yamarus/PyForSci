{
 "cells": [
  {
   "cell_type": "markdown",
   "metadata": {},
   "source": [
    "# Функции \n",
    "\n",
    "## Функции\n",
    "Функция - объект, принимающий аргументы и возвращающий результат. В\n",
    "простейщем случае функция определяются следующим образом:"
   ]
  },
  {
   "cell_type": "code",
   "execution_count": null,
   "metadata": {},
   "outputs": [],
   "source": [
    "def func(arg1, arg2, ..., argN):\n",
    "    \"Строка документации. Не обязательна, но приветствуется в больших проектах, или в модулях\"\n",
    "    инструкция1\n",
    "    инструкция2\n",
    "    ...\n",
    "    инструкцияN\n",
    "    return результат"
   ]
  },
  {
   "cell_type": "markdown",
   "metadata": {},
   "source": [
    "Для использования функции просто вызываем ее из скрипта в нужном месте ниже объявления (выше объявления вызвать функцию нельзя, т.к. она еще неопределена)"
   ]
  },
  {
   "cell_type": "code",
   "execution_count": null,
   "metadata": {},
   "outputs": [],
   "source": [
    "переменная_для_результата = func(arg1, arg2, ..., argN)"
   ]
  },
  {
   "cell_type": "markdown",
   "metadata": {},
   "source": [
    "После этого в переменную ``переменная_для_результата`` скопируется значение переменной ``результат``, вычисленной внутри функции.\n",
    "\n",
    "Рассмотрим функцию, выводящую гипотенузу прямоугольного треугольника, зная длины сторон катетов: $c=\\sqrt{a^2+b^2}$"
   ]
  },
  {
   "cell_type": "code",
   "execution_count": 1,
   "metadata": {},
   "outputs": [
    {
     "name": "stdout",
     "output_type": "stream",
     "text": [
      "5.0\n"
     ]
    }
   ],
   "source": [
    "def hypotenuse(a, b):\n",
    "    \"ищем гипотенузу\"\n",
    "    c = (a**2 + b**2)**0.5\n",
    "    return c\n",
    "\n",
    "hyp = hypotenuse(3, 4)\n",
    "print(hyp)"
   ]
  },
  {
   "cell_type": "markdown",
   "metadata": {},
   "source": [
    "При вызове функции можно однозначно задавать значение каждого аргумента:"
   ]
  },
  {
   "cell_type": "code",
   "execution_count": 2,
   "metadata": {},
   "outputs": [
    {
     "name": "stdout",
     "output_type": "stream",
     "text": [
      "16\n",
      "16\n"
     ]
    }
   ],
   "source": [
    "def power(a,b):\n",
    "    return a**b\n",
    "\n",
    "print(power(2, 4))\n",
    "print(power(b = 4, a = 2))"
   ]
  },
  {
   "cell_type": "markdown",
   "metadata": {},
   "source": [
    "В качестве аргументов, и возвращаемого результата функции способны принимать и отдавать любой набор объектов (включая другие функции или ничего)"
   ]
  },
  {
   "cell_type": "code",
   "execution_count": 15,
   "metadata": {},
   "outputs": [
    {
     "name": "stdout",
     "output_type": "stream",
     "text": [
      "[None, None, None, None, None, None, None, None, None, None]\n"
     ]
    }
   ],
   "source": [
    "def create_list_of_None():\n",
    "    l = [None for i in range(10)]\n",
    "    return l\n",
    "\n",
    "el = create_list_of_None()\n",
    "print(el)"
   ]
  },
  {
   "cell_type": "code",
   "execution_count": 12,
   "metadata": {},
   "outputs": [
    {
     "name": "stdout",
     "output_type": "stream",
     "text": [
      "это не список\n",
      "получен пустой список\n",
      "в списке один элемент. Выводим без запятых\n",
      "d, 4, (3+2j), 6.62e-34\n"
     ]
    }
   ],
   "source": [
    "def print_stuff(list_of_stuff):\n",
    "    \n",
    "    if type(list_of_stuff) is not list: # проверяем что нам передали список\n",
    "        print('это не список')\n",
    "        return                # еще можно pass\n",
    "    \n",
    "    if len(list_of_stuff) > 1: # проверяем что список достаточно длинный для нашего кода\n",
    "        output_string = str(list_of_stuff[0]) # создаем строку из первого элемента\n",
    "    \n",
    "        for stuff in list_of_stuff[1:]:\n",
    "            output_string += ', ' + str(stuff) # добавляем запятые и пробелы\n",
    "        print(output_string)\n",
    "    \n",
    "    elif len(list_of_stuff) == 1: # в списке один элемент. запятые не нужны\n",
    "        print(str(list_of_stuff[0]))\n",
    "        \n",
    "    else: print('получен пустой список')\n",
    "\n",
    "print_stuff(2)\n",
    "print_stuff([]) #пустой список\n",
    "print_stuff(['в списке один элемент. Выводим без запятых'])\n",
    "print_stuff(['d', 4, 3. + 2j, 6.62e-34])"
   ]
  },
  {
   "cell_type": "markdown",
   "metadata": {},
   "source": [
    "## Аргументы функции\n",
    "\n",
    "Иногда функции требуется передать заранее не известное количество аргументов, дополнительные аргументы (полезно при подборе параметров моделей с scipy.optimize) и именованные аргументы.\n",
    "\n",
    "Рассмотрим использование дополнительных аргументов (функция получает кортеж, обозначается ``*``, например ``*args``)"
   ]
  },
  {
   "cell_type": "code",
   "execution_count": 22,
   "metadata": {},
   "outputs": [
    {
     "name": "stdout",
     "output_type": "stream",
     "text": [
      "3\n",
      "11\n",
      "11\n"
     ]
    }
   ],
   "source": [
    "def func(x, y, *ab_args):\n",
    "    if len(ab_args) == 2: a, b = ab_args\n",
    "    else: a = b = 1\n",
    "    return a*x + b*y\n",
    "\n",
    "print(func(1, 2))\n",
    "print(func(1, 2, *(3, 4)))\n",
    "print(func(1, 2, 3, 4))"
   ]
  },
  {
   "cell_type": "markdown",
   "metadata": {},
   "source": [
    "Именованные аргументы представляются в виде словаря и обозначаются ``**``, например ``**kwards``"
   ]
  },
  {
   "cell_type": "code",
   "execution_count": 27,
   "metadata": {},
   "outputs": [
    {
     "name": "stdout",
     "output_type": "stream",
     "text": [
      "11\n"
     ]
    }
   ],
   "source": [
    "def func(x, y, **ab_kwards):\n",
    "    a = ab_kwards['a']\n",
    "    b = ab_kwards['b']\n",
    "    return a*x + b*y\n",
    "\n",
    "print(func(1, 2, a = 3, b = 4))"
   ]
  },
  {
   "cell_type": "markdown",
   "metadata": {},
   "source": [
    "## Lambda функции\n",
    "\n",
    "Иногда бывает удобно использовать короткие ``lambda`` функции, которые можно объявлять непосредственно перед использованием. Мы не будем их использовать на регулярной основе. При необходимости, вы можете самостоятельно ознакомиться с их функционалом и возможностями. \n",
    "\n",
    "В общем виде, объявление и использование lambda функции происходит следующим образом:"
   ]
  },
  {
   "cell_type": "code",
   "execution_count": null,
   "metadata": {},
   "outputs": [],
   "source": [
    "название_функции = lambda arg1, arg2, ..., argN : выражение"
   ]
  },
  {
   "cell_type": "markdown",
   "metadata": {},
   "source": [
    "Рассмотрим приведенный ранее пример с вычислением гипотенузы"
   ]
  },
  {
   "cell_type": "code",
   "execution_count": 28,
   "metadata": {},
   "outputs": [
    {
     "name": "stdout",
     "output_type": "stream",
     "text": [
      "5.0\n"
     ]
    }
   ],
   "source": [
    "hypotenuse = lambda a, b: (a**2 + b**2)**0.5\n",
    "\n",
    "print(hypotenuse(3, 4))"
   ]
  },
  {
   "cell_type": "markdown",
   "metadata": {},
   "source": [
    "# Строки\n",
    "Строки - необходимый элемент для работы с текстом, подписями и файлами. Python имеет довольно широкий базовый функционал для работы со строками. Полное описание всего доступного функционала можно найти в <a href='https://docs.python.org/3.7/library/stdtypes.html#string-methods'>документации</a> (учитывая ее формат и размер, лучше ищите отдельные примеры)\n",
    "\n",
    "Строку можно задать с помощью кавычек или апострофов:"
   ]
  },
  {
   "cell_type": "code",
   "execution_count": 30,
   "metadata": {},
   "outputs": [
    {
     "name": "stdout",
     "output_type": "stream",
     "text": [
      "это тоже строка\n"
     ]
    }
   ],
   "source": [
    "s = 'это строка'\n",
    "s = \"это тоже строка\"\n",
    "print(s)"
   ]
  },
  {
   "cell_type": "markdown",
   "metadata": {},
   "source": [
    "Для записи очень длинных строк удобно использовать тройные кавычки (апострофы):"
   ]
  },
  {
   "cell_type": "code",
   "execution_count": 36,
   "metadata": {},
   "outputs": [
    {
     "name": "stdout",
     "output_type": "stream",
     "text": [
      "Это очень\n",
      "тоже строка.\n",
      "Можно писать\n",
      "в несколько строк.\n",
      "\n",
      "удобно для форматирования\n",
      "input файлов для программ\n",
      "\n"
     ]
    }
   ],
   "source": [
    "s = '''Это\n",
    "тоже строка.\n",
    "Можно писать\n",
    "в несколько строк.\n",
    "\n",
    "удобно для форматирования\n",
    "input файлов для программ\n",
    "'''\n",
    "print(s)"
   ]
  },
  {
   "cell_type": "markdown",
   "metadata": {},
   "source": [
    "## Литералы строк.\n",
    "Литералы - служебные последовательности специального назначения (<a href=\"https://docs.python.org/2.0/ref/strings.html\">список литералов строк</a>). В работе с числовыми данными наиболее востребованны символы\n",
    "\n",
    "``\\n`` - новая строка\n",
    "\n",
    "``\\t`` - табуляция\n",
    "\n",
    "``\\uhhhh`` - Unicode символ с номером hhhh (<a href=\"https://www.rapidtables.com/code/text/unicode-characters.html\">удобная таблица символов  </a>)\n",
    "\n",
    "Чтобы вывести сам литерал, можно использовать дополнительный слэш. ``\\t`` - выведет табуляцию, ``\\\\t`` - выведет \\t. Аналогично можно выводить другие литералы или кавычки."
   ]
  },
  {
   "cell_type": "code",
   "execution_count": 47,
   "metadata": {},
   "outputs": [
    {
     "name": "stdout",
     "output_type": "stream",
     "text": [
      "мы пытаемся написать текст\n",
      "в несколько строк\n",
      "\tа это была табуляция\n",
      "Σ - сигма\n",
      "' - а это вывод кавычки, \n",
      "еще можно так \\n\n"
     ]
    }
   ],
   "source": [
    "print('мы пытаемся написать текст\\nв несколько строк')\n",
    "print('\\tа это была табуляция')\n",
    "print('\\u03a3 - сигма')\n",
    "print('\\' - а это вывод кавычки, \\nеще можно так \\\\n')"
   ]
  },
  {
   "cell_type": "markdown",
   "metadata": {},
   "source": [
    "Каждый вывод функции ``print()`` заканчивает строку символом ``\\n``. Если требуется, чтобы вывод не начинался с новой строки, можно либо передавать в функцию ``print()`` уже отформатированну строку, либо настроить ее окончание аргументом ``end='строка окончания'``: "
   ]
  },
  {
   "cell_type": "code",
   "execution_count": 46,
   "metadata": {},
   "outputs": [
    {
     "name": "stdout",
     "output_type": "stream",
     "text": [
      "0, 1, 2, 3, 4, 5, 6, 7, 8, 9, \n",
      "0, 1, 2, 3, 4, 5, 6, 7, 8, 9, "
     ]
    }
   ],
   "source": [
    "s = ''\n",
    "for i in range(10):\n",
    "    s += str(i) + ', '\n",
    "print(s)\n",
    "\n",
    "for i in range(10):\n",
    "    print(i, end=', ')"
   ]
  },
  {
   "cell_type": "markdown",
   "metadata": {},
   "source": [
    "В некоторых случаях требуется подавить экранирование символов. Для этого перед началом строки добавляют ``r``:"
   ]
  },
  {
   "cell_type": "code",
   "execution_count": 57,
   "metadata": {},
   "outputs": [
    {
     "name": "stdout",
     "output_type": "stream",
     "text": [
      "C:\test\f",
      "rom_lectures\u0007ll\n",
      "ew_example.csv\n",
      "C:\\test\\from_lectures\\all\\new_example.csv\n"
     ]
    }
   ],
   "source": [
    "print('C:\\test\\from_lectures\\all\\new_example.csv') # если N в new была бы большой - SyntaxError: (unicode error)\n",
    "\n",
    "print(r'C:\\test\\from_lectures\\all\\new_example.csv')"
   ]
  },
  {
   "cell_type": "markdown",
   "metadata": {},
   "source": [
    "## Методы и функции строк\n",
    "\n",
    "Многие базовые операции строк дублируют аналогичные операции для списков, и любы других итерируемых объектов."
   ]
  },
  {
   "cell_type": "code",
   "execution_count": 1,
   "metadata": {},
   "outputs": [
    {
     "name": "stdout",
     "output_type": "stream",
     "text": [
      "строка раз\n",
      "строкастрокастрока\n",
      "6\n",
      "т\n",
      "акортс\n"
     ]
    }
   ],
   "source": [
    "s = 'строка'\n",
    "print(s + ' раз') # сложение\n",
    "print(s*3)        # умножение\n",
    "print(len(s))     # размер строки\n",
    "print(s[1])       # индексирование строки\n",
    "print(s[::-1])     # срезы и обращение к элементам"
   ]
  },
  {
   "cell_type": "markdown",
   "metadata": {},
   "source": [
    "Строки имеют дополнительные специальные методы форматирования. С рядом из них рекомендуется ознакомиться <a href='https://pythonworld.ru/tipy-dannyx-v-python/stroki-funkcii-i-metody-strok.html'>тут</a>, хотя бы для того, чтобы не тратить время на задачи, которые решаются стандартно. Рассмотрим три наиболее важных для нас метода:\n",
    "\n",
    "``s.split(';')`` - разбиение строки по разделителю. Без указания аргументов разделяет строки по пробельным символам (пробел, табуляция и перенос строка). Крайне удобный метод для разделения строки на слова. Результат - список строк.\n",
    " \n",
    "\n",
    "``s.replace('CARBON','C')`` - одной подстроки на другую. Результат - строка.\n",
    "\n",
    "``s.find('energy',[start],[end])`` - поиск подстроки в строке с позиции ``start`` до позиции ``end``. Результат - число, начальный индекс, в котором встречается подстрока."
   ]
  },
  {
   "cell_type": "code",
   "execution_count": 74,
   "metadata": {},
   "outputs": [
    {
     "name": "stdout",
     "output_type": "stream",
     "text": [
      "['100.7440', '22.974']\n",
      "C    1.0345   -3.9387    3.4362\n",
      "nkioskx 20\n"
     ]
    }
   ],
   "source": [
    "s = '100.7440;22.974'\n",
    "print(s.split(';'))\n",
    "\n",
    "s = 'CARBON    1.0345   -3.9387    3.4362'\n",
    "new_s = s.replace('CARBON','C')\n",
    "print(new_s)\n",
    "\n",
    "s = 'jhalfjghofdinoivap;nkioskxnvlskvnsiudfvhmzxvloruigvaa;oirvw'\n",
    "i = s.find('kiosk')\n",
    "print(s[i-1:i+6],i)"
   ]
  },
  {
   "cell_type": "markdown",
   "metadata": {},
   "source": [
    "## Форматирование строк. Метод ``.format()``\n",
    "\n",
    "Метод ``.format()`` используется для подстановки значения в строку. Сам метод имеет огромный функционал, который описан в <a href='https://docs.python.org/3.7/library/string.html?highlight=string#format-string-syntax'>соответствующем разделе документации</a>. Мы же рассмотрим лишь его общее использование и отдельно форматирование вывода чисел. Общее использование метода выглядит следующим образом:"
   ]
  },
  {
   "cell_type": "code",
   "execution_count": 75,
   "metadata": {},
   "outputs": [
    {
     "name": "stdout",
     "output_type": "stream",
     "text": [
      "подставляем строку вместо фигурных скобок\n"
     ]
    }
   ],
   "source": [
    "s = 'подставляем {} вместо фигурных скобок'.format('строку')\n",
    "print(s)"
   ]
  },
  {
   "cell_type": "markdown",
   "metadata": {},
   "source": [
    "Если подставляем несколько значений, то можно указывать какой именно поррядковый номер аргумента подставлять в конкретную скобку:"
   ]
  },
  {
   "cell_type": "code",
   "execution_count": 77,
   "metadata": {},
   "outputs": [
    {
     "name": "stdout",
     "output_type": "stream",
     "text": [
      "10 20 30\n",
      "10 20 30\n",
      "30 20 30\n"
     ]
    }
   ],
   "source": [
    "print('{} {} {}'.format(10, 20, 30))\n",
    "print('{0} {1} {2}'.format(10, 20, 30))\n",
    "print('{2} {1} {2}'.format(10, 20, 30))"
   ]
  },
  {
   "cell_type": "markdown",
   "metadata": {},
   "source": [
    "В случае работы с приборными данными, большое значение имеет форматирование чисел. Рассмотрим структуру такого форматирования:"
   ]
  },
  {
   "cell_type": "code",
   "execution_count": null,
   "metadata": {},
   "outputs": [],
   "source": [
    "'...{:FasN.pT}...'.format(число)"
   ]
  },
  {
   "cell_type": "markdown",
   "metadata": {},
   "source": [
    "``:`` начало блока спецификаций \n",
    "\n",
    "``F`` - символ заполнения (**по умолчанию пробел**)\n",
    "\n",
    "``a`` - выравнивание. `<` - по левому краю, ``>`` - по правому краю (**по умолчанию**), ``=`` - знак слева, остальное справа, ``^`` - по центру\n",
    "\n",
    "``s`` - знак. ``+`` - всегда отображать знак, ``-`` - отображать только минусы (**по умолчанию**), `` `` - отображать пробел для положительных чисел\n",
    "\n",
    "``N`` - общее количество знаков в выводе (если не протеворечит ``.d``, иначе выводит согласно ``.d``)\n",
    "\n",
    "``.p`` - количества знаков после запятой\n",
    "\n",
    "``T`` - тип выводимого. ``d`` - для десятичных целочисленных (исключает использование ``.p``), ``e`` - экспоненциальная запись (``E`` - тоже, но выводит заглавную E), ``f`` - вывод числа с плавающей запятой, ``%`` - вывод в процентах."
   ]
  },
  {
   "cell_type": "code",
   "execution_count": 128,
   "metadata": {},
   "outputs": [
    {
     "name": "stdout",
     "output_type": "stream",
     "text": [
      "4 знака после запятой: 3.1416\n",
      "\n",
      "ширина колонки 10 символов, 2 знака после запятой\n",
      "      3.14     31.42\n",
      "\n",
      "+ выравнивание слева и по центру, заполнение 0 и *\n",
      "3.1400000000**3.14e+01**\n",
      "\n",
      "а это π в %: +314.159%\n"
     ]
    }
   ],
   "source": [
    "from math import pi\n",
    "print('4 знака после запятой: {:.4f}'.format(pi)) \n",
    "print('\\nширина колонки 10 символов, 2 знака после запятой\\n{:10.2f}{:10.2f}'.format(pi,pi*10))\n",
    "print('\\n+ выравнивание слева и по центру, заполнение 0 и *\\n{:0<12.2f}{:*^12.2e}'.format(pi,pi*10))\n",
    "print('\\nа это \\u03C0 в %: {:+.3%}'.format(pi))"
   ]
  }
 ],
 "metadata": {
  "kernelspec": {
   "display_name": "Python 3",
   "language": "python",
   "name": "python3"
  },
  "language_info": {
   "codemirror_mode": {
    "name": "ipython",
    "version": 3
   },
   "file_extension": ".py",
   "mimetype": "text/x-python",
   "name": "python",
   "nbconvert_exporter": "python",
   "pygments_lexer": "ipython3",
   "version": "3.8.3"
  }
 },
 "nbformat": 4,
 "nbformat_minor": 2
}
