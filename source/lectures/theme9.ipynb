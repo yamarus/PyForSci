{
 "cells": [
  {
   "cell_type": "markdown",
   "metadata": {},
   "source": [
    "# Установка пакетов и настройка среды в Python\n",
    "\n",
    "## `pip` и `conda`"
   ]
  },
  {
   "cell_type": "code",
   "execution_count": null,
   "metadata": {},
   "outputs": [],
   "source": []
  },
  {
   "cell_type": "markdown",
   "metadata": {},
   "source": [
    "# Основы ООП\n",
    "\n",
    "Согласно <a href='https://ru.wikipedia.org/wiki/Объектно-ориентированное_программирование'>Википедии</a>, **Объе́ктно-ориенти́рованное программи́рование (ООП)** - — методология программирования, основанная на представлении программы в виде совокупности объектов, каждый из которых является экземпляром определённого класса, а классы образуют иерархию наследования.\n",
    "\n",
    "Основные принципы структурирования в случае ООП связаны с различными аспектами базового понимания предметной задачи, которое требуется для оптимального управления соответствующей моделью:\n",
    "\n",
    "   * **абстракция** для выделения в моделируемом предмете важного для решения конкретной задачи по предмету, в конечном счёте — контекстное понимание предмета, формализуемое в виде **класса**;\n",
    "    \n",
    "   * **инкапсуляция** для быстрой и безопасной организации собственно иерархической управляемости: чтобы было достаточно простой команды **«что делать», без одновременного уточнения как именно делать**, так как это уже другой уровень управления;\n",
    "    \n",
    "   * **наследование для быстрой** и безопасной организации родственных понятий: чтобы было достаточно на каждом иерархическом шаге учитывать только изменения, не дублируя всё остальное, учтённое на предыдущих шагах;\n",
    "    \n",
    "   * **полиморфизм** для определения точки, в которой единое управление лучше распараллелить или наоборот — собрать воедино.\n",
    "   \n",
    "В данной лекции будут затронуты лишь базовые понятия ООП в Python, достаточные для дальнейшего углубления в тему, и поверхностного самостоятельного понимания сторонних модулей.\n",
    "\n",
    "## Зачем это надо?\n",
    "\n",
    " * Язык Python базируется на концепции ООП. Большая часть специализированного применения также подразумевает ООП. Часто, документацией к некоторым пакетам является просто исходный код с комментариями.\n",
    " * Можно писать свои небольшие пакеты, удобные для стороннего использования (или для самостоятельного использования, но позже). Нет необходимости разбираться сколько и каких аргументов требуется передать. Все можно заранее предусмотреть в самом классе, и не тратить время на воспоминания о том что именно и как делает этот код.\n",
    " * Удобно для написания собственных рутинных \"оболочек\" для сторонних пакетов (например для matplotlib).\n",
    "\n",
    "\n",
    "## Классы в Python\n",
    "\n",
    "Python является объектно-ориентированным языком. Каждый используемый элемент (даже числа) в нем является объектом с теми или иными заданными методами.\n",
    "\n",
    "Создание класса происходит простым способом:"
   ]
  },
  {
   "cell_type": "code",
   "execution_count": null,
   "metadata": {},
   "outputs": [],
   "source": [
    "class ClassName(object):\n",
    "  # методы и атрибуты класса ClassName"
   ]
  },
  {
   "cell_type": "markdown",
   "metadata": {},
   "source": [
    "**Примечание** По общей договоренности название классов пишется слитно с заглавных букв, а функций, методов и констат с маленьких разделителем \"_\".\n",
    "\n",
    "Создадим наш новый класс для описания атомов:"
   ]
  },
  {
   "cell_type": "code",
   "execution_count": 37,
   "metadata": {},
   "outputs": [
    {
     "name": "stdout",
     "output_type": "stream",
     "text": [
      "<class '__main__.Atom'>\n",
      "C\n",
      "1 2 3\n",
      "H 1.00784\n"
     ]
    }
   ],
   "source": [
    "class Atom(object):\n",
    "    element = 'C'\n",
    "    def set_coord(self, coords):\n",
    "        self.x, self.y, self.z = coords # меняем атрибуты класса\n",
    "\n",
    "\n",
    "a1=Atom() # создаем объект класса Atom\n",
    "\n",
    "print(type(a1))\n",
    "print(a1.element) #выводим заданные атрибуты класса\n",
    "\n",
    "a1.set_coord([1,2,3])   # используем метод класса\n",
    "print(a1.x, a1.y, a1.z) # выводим новые атрибуты класса\n",
    "\n",
    "a1.element = 'H'\n",
    "a1.mass = 1.00784       # добавляем или изменяем атрибут или метод\n",
    "print(a1.element, a1.mass)"
   ]
  },
  {
   "cell_type": "markdown",
   "metadata": {},
   "source": [
    "Для наследования свойств класса, родительские классы достаточно указать в скобках при описании дочернего класса. При этом атрибуты и методы родительского могут быть вызванны и/или переопределенны из дочернего."
   ]
  },
  {
   "cell_type": "code",
   "execution_count": 13,
   "metadata": {},
   "outputs": [
    {
     "name": "stdout",
     "output_type": "stream",
     "text": [
      "None\n",
      "1 2 3\n"
     ]
    }
   ],
   "source": [
    "class DummyAtom(Atom):\n",
    "    element = None\n",
    "\n",
    "da1 = DummyAtom()\n",
    "print(da1.element)\n",
    "\n",
    "da1.set_coord([1,2,3])   # используем метод родительского класса\n",
    "print(da1.x, da1.y, da1.z)"
   ]
  },
  {
   "cell_type": "markdown",
   "metadata": {},
   "source": [
    "## Специальные (магические) методы\n",
    "\n",
    "Для того чтобы узнать какие у класса есть методы и атрибуты существует стандартная функция `dir()`"
   ]
  },
  {
   "cell_type": "code",
   "execution_count": 28,
   "metadata": {},
   "outputs": [
    {
     "name": "stdout",
     "output_type": "stream",
     "text": [
      "['__class__', '__delattr__', '__dict__', '__dir__', '__doc__', '__eq__', '__format__', '__ge__', '__getattribute__', '__gt__', '__hash__', '__init__', '__init_subclass__', '__le__', '__lt__', '__module__', '__ne__', '__new__', '__reduce__', '__reduce_ex__', '__repr__', '__setattr__', '__sizeof__', '__str__', '__subclasshook__', '__weakref__', 'element', 'set_coord']\n"
     ]
    }
   ],
   "source": [
    "print(dir(Atom))"
   ]
  },
  {
   "cell_type": "markdown",
   "metadata": {},
   "source": [
    "Последние два создали мы, остальные являются специальными методами класса. По аналогии с функцией dir() вам могут быть полезны следующие методы (в Python классы тоже являются объектами):"
   ]
  },
  {
   "cell_type": "code",
   "execution_count": 42,
   "metadata": {},
   "outputs": [
    {
     "name": "stdout",
     "output_type": "stream",
     "text": [
      "{'x': 1, 'y': 2, 'z': 3, 'element': 'H', 'mass': 1.00784}\n",
      "['x', 'y', 'z', 'element', 'mass', '__module__', 'set_coord', '__dict__', '__weakref__', '__doc__', '__repr__', '__hash__', '__str__', '__getattribute__', '__setattr__', '__delattr__', '__lt__', '__le__', '__eq__', '__ne__', '__gt__', '__ge__', '__init__', '__new__', '__reduce_ex__', '__reduce__', '__subclasshook__', '__init_subclass__', '__format__', '__sizeof__', '__dir__', '__class__']\n"
     ]
    }
   ],
   "source": [
    "print(a1.__dict__)    # словарь всех публичных атрибутов объекта\n",
    "print(a1.__dir__())   # тоже что и dir для класса, только для объекта"
   ]
  },
  {
   "cell_type": "markdown",
   "metadata": {},
   "source": [
    "## Инициализация объекта\n",
    "\n",
    "Для выполнения какой-то логики для объекта при его иницилизации используется метод `__init__`. Перезададим наш класс `Atom`"
   ]
  },
  {
   "cell_type": "code",
   "execution_count": 55,
   "metadata": {},
   "outputs": [
    {
     "name": "stdout",
     "output_type": "stream",
     "text": [
      "{'element': 'H', 'mass': 1.00784, 'x': 1, 'y': 2, 'z': 3, 'coords': array([1, 2, 3])}\n"
     ]
    }
   ],
   "source": [
    "import numpy as np\n",
    "\n",
    "class Atom(object):\n",
    "    def set_coord(self, coords):\n",
    "        self.x, self.y, self.z = coords # меняем атрибуты класса\n",
    "    \n",
    "    _massDict={'H':1.00784,  # не публичные атрибуьы начинаются с _\n",
    "               'O':15.999,   # к ним можно получить доступ,\n",
    "               'C':12.0107,  # но в чужом коде их лучше не трогать\n",
    "               'N':14.0067}\n",
    "    \n",
    "    def __init__(self, element, coords):\n",
    "        self.element=element\n",
    "        self.mass = self._massDict[element]\n",
    "        self.set_coord(coords)\n",
    "        self.coords=np.array(coords)\n",
    "\n",
    "a1=Atom('H',[1,2,3])\n",
    "print(a1.__dict__)"
   ]
  },
  {
   "cell_type": "markdown",
   "metadata": {},
   "source": [
    "## Итерация по объекту\n",
    "\n",
    "Создадим новый класс Molecule. И сделаем так, чтобы мы могли итерировать молекулу по атомам. Для этого определим следующие методы (на деле их больше, см. сontainer special methods):\n",
    "\n",
    "   * `__len__(self)` - возвращаем значения для функции `len`\n",
    "   \n",
    "   * `__getitem__(self, key)` - Определяет поведение при доступе к элементу, используя синтаксис `self[key]`.\n",
    "   \n",
    "   * `__iter__(self)` - Должен вернуть итератор для контейнера. Проще всего с помощью встроенной функции `iiter(self.some_list)`"
   ]
  },
  {
   "cell_type": "code",
   "execution_count": 66,
   "metadata": {},
   "outputs": [
    {
     "name": "stdout",
     "output_type": "stream",
     "text": [
      "3\n",
      "O 0.0 0.0 0.0\n",
      "H 0.757 0.586 0.0\n",
      "H -0.757 0.586 0.0\n",
      "[<__main__.Atom object at 0x7f267b4adc70>, <__main__.Atom object at 0x7f267b4ad370>]\n",
      "18.014680000000002\n",
      "[0.         0.06556811 0.        ]\n"
     ]
    }
   ],
   "source": [
    "class Molecule:\n",
    "    def __init__(self, list_of_atoms=None):\n",
    "        if list_of_atoms: \n",
    "            self.list_of_atoms = list_of_atoms\n",
    "        else: self.list_of_atoms = []\n",
    "            \n",
    "    def __len__(self):\n",
    "        return len(self.list_of_atoms)\n",
    "    \n",
    "    def __getitem__(self, element):\n",
    "        \"возвращаем список всех атомов заданного типа\"\n",
    "        list_to_return=[]\n",
    "        for atom in self.list_of_atoms:\n",
    "            if atom.element==element:\n",
    "                list_to_return.append(atom)\n",
    "        return list_to_return\n",
    "    \n",
    "    def __iter__(self):\n",
    "        return iter(self.list_of_atoms)\n",
    "    \n",
    "    def add_atom(self, atom):\n",
    "        self.list_of_atoms.append(atom)\n",
    "    \n",
    "    # а не посчитать ли нам центр масс и молярную массу?\n",
    "    def molar_mass(self):\n",
    "        molar=0\n",
    "        for atom in self.list_of_atoms:\n",
    "            molar+= atom.mass\n",
    "        return molar\n",
    "    \n",
    "    def center_of_mass(self):\n",
    "        CoM=np.array([0., 0., 0.])\n",
    "        for atom in self.list_of_atoms:\n",
    "            CoM+= atom.mass*atom.coords\n",
    "        return CoM/self.molar_mass()\n",
    "        \n",
    "m1=Molecule() #создаем пустую молекулу\n",
    "\n",
    "water = [['O',  0.000, 0.000, 0.0],\n",
    "         ['H',  0.757, 0.586, 0.0],\n",
    "         ['H', -0.757, 0.586, 0.0]]\n",
    "\n",
    "for a in water:\n",
    "    m1.add_atom(Atom(a[0], a[1:]))  #заполняем молекулу атомами\n",
    "\n",
    "print(len(m1))\n",
    "\n",
    "for atom in m1:\n",
    "    print(atom.element, atom.x, atom.y,  atom.z)\n",
    "\n",
    "print(m1['H'])\n",
    "\n",
    "print(m1.molar_mass())\n",
    "print(m1.center_of_mass())"
   ]
  },
  {
   "cell_type": "markdown",
   "metadata": {},
   "source": [
    "## Определение арифметических и логических операций\n",
    "\n",
    "Отношение к арифметическим операциям также можно определять спеуиальными методами. Несколько примеров (далеко не все) приведенны ниже:\n",
    "   * `__add__(self, other)` - Сложение.\n",
    "   * `__sub__(self, other)` - Вычитание.\n",
    "   * `__mul__(self, other)` - Умножение.\n",
    "   * `__div__(self, other)` - Деление, оператор /.\n",
    "   \n",
    "Для логических операций можно также определить исход сравнения:\n",
    "\n",
    "   * `__eq__(self, other)` определяет поведение оператора `==`\n",
    "   * `__ne__(self, other)` определяет поведение оператора `!=`\n",
    "   * `__lt__(self, other)` определяет поведение оператора `<`\n",
    "   * `__gt__(self, other)` определяет поведение оператора `>`\n",
    "   * `__le__(self, other)` определяет поведение оператора `<=`\n",
    "   * `__ge__(self, other)` определяет поведение оператора `>=`\n",
    " \n",
    "Модернизируем наш класс `Atoms`, чтобы при сложении возвращало молекулу, а сравнение происходило основываясь на массах атомов."
   ]
  },
  {
   "cell_type": "code",
   "execution_count": 97,
   "metadata": {},
   "outputs": [
    {
     "name": "stdout",
     "output_type": "stream",
     "text": [
      "<class '__main__.Molecule'>\n",
      "False\n"
     ]
    }
   ],
   "source": [
    "class Atom(object):\n",
    "    def set_coord(self, coords):\n",
    "        self.x, self.y, self.z = coords # меняем атрибуты класса\n",
    "    \n",
    "    _massDict={'H':1.00784,  # не публичные атрибуьы начинаются с _\n",
    "               'O':15.999,   # к ним можно получить доступ,\n",
    "               'C':12.0107,  # но в чужом коде их лучше не трогать\n",
    "               'N':14.0067}\n",
    "    \n",
    "    def __init__(self, element, coords):\n",
    "        self.element=element\n",
    "        self.mass = self._massDict[element]\n",
    "        self.set_coord(coords)\n",
    "        self.coords=np.array(coords)\n",
    "        \n",
    "    def __add__(self, at2):\n",
    "        return Molecule([self, at2])\n",
    "    \n",
    "    def __eq__(self, at2):\n",
    "        return (self.mass==at2.mass)\n",
    "    \n",
    "    def __lt__(self, at2):\n",
    "        return (self.mass<at2.mass)\n",
    "    #остальные операции сравнения по аналогии\n",
    "    \n",
    "h=Atom('H',[0,0,0])\n",
    "h_=Atom('H',[1,0,0])\n",
    "H2 = h+h_\n",
    "print(type(H2))\n",
    "print(h<h_)"
   ]
  }
 ],
 "metadata": {
  "kernelspec": {
   "display_name": "Python 3",
   "language": "python",
   "name": "python3"
  },
  "language_info": {
   "codemirror_mode": {
    "name": "ipython",
    "version": 3
   },
   "file_extension": ".py",
   "mimetype": "text/x-python",
   "name": "python",
   "nbconvert_exporter": "python",
   "pygments_lexer": "ipython3",
   "version": "3.8.3"
  }
 },
 "nbformat": 4,
 "nbformat_minor": 4
}
