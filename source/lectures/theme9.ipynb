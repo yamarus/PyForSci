{
 "cells": [
  {
   "cell_type": "markdown",
   "metadata": {},
   "source": [
    "# Установка пакетов и настройка окружения в Python\n",
    "\n",
    "## `pip` и `conda`\n",
    "\n",
    "Сторонние библиотеки можно устанавливать различными методами. Глобально их можно разделить на два основных: ручная установка и менеджеры пакетов. В большинстве случаев предпочтительно использовать именно менеджеры пакетов, т.к. они способны автоматически разрешить большую часть зависимостей. Здесь мы рассмотрим два наиболее актуальных для наших задач: стандартный `pip` (в ходит в дистрибутив python по умолчанию) и менеджер пакетов от anaconda. \n",
    "\n",
    "Для использования `pip` достаточно запустить командную строку с каким либо активированным окружением и ввести команду\n",
    "\n",
    "```\n",
    "pip install package_name\n",
    "```\n",
    "\n",
    "На пример, для установки numpy строка будет выглядеть `pip install numpy`.\n",
    "\n",
    "Аналогичная ситуация с anaconda: `conda install numpy`. \n",
    "\n",
    "Также большинство пакетов в своей документации приводят конкретную строку для установки (иногда требуется передать в установщик дополнительные параметры, такие как версия или источник).\n",
    "\n",
    "## Настройка окружения в Python\n",
    "\n",
    "Интерпретатор, запуская любой скрип, пытается выполнить его в основываясь на заданных настройках. Заметная часть этих настроек включает в себя какие именно пакеты и где ему искать. В ОС существует глобальное окружение с заданными параметрами (например язык, время и т.д.) и стандартные пути для поиска пакетов и библиотек. Иногда, вам может потребоваться задать эти параметры отличные от системных настроек. Такая ситуация может произойти при работе на сторонних серверах, где у пользователя недостаточно прав для установки пакетов в системные директории, или же при сборке проекта (например Pyinstaller при использовании со стандартной средой anaconda может раздуть финальный проект до нескольких гигабайт просто пытаясь впихнуть в него все возможные зависимости). Для этого можно использовать настройки виртуального окружения, которые стандартно управляются утилитой `venv` (<a href='https://packaging.python.org/guides/installing-using-pip-and-virtual-environments/#creating-a-virtual-environment'>смотри документацию</a>).\n",
    "\n",
    "В случае использования Anaconda-Navigator управление пакетами и виртуальной средой можно делать графически на вкладке Environments."
   ]
  },
  {
   "cell_type": "markdown",
   "metadata": {},
   "source": [
    "# Основы ООП\n",
    "\n",
    "Согласно <a href='https://ru.wikipedia.org/wiki/Объектно-ориентированное_программирование'>Википедии</a>, **Объе́ктно-ориенти́рованное программи́рование (ООП)** - — методология программирования, основанная на представлении программы в виде совокупности объектов, каждый из которых является экземпляром определённого класса, а классы образуют иерархию наследования.\n",
    "\n",
    "Основные принципы структурирования в случае ООП связаны с различными аспектами базового понимания предметной задачи, которое требуется для оптимального управления соответствующей моделью:\n",
    "\n",
    "   * **абстракция** для выделения в моделируемом предмете важного для решения конкретной задачи по предмету, в конечном счёте — контекстное понимание предмета, формализуемое в виде **класса**;\n",
    "    \n",
    "   * **инкапсуляция** для быстрой и безопасной организации собственно иерархической управляемости: чтобы было достаточно простой команды **«что делать», без одновременного уточнения как именно делать**, так как это уже другой уровень управления;\n",
    "    \n",
    "   * **наследование** для быстрой и безопасной организации родственных понятий: чтобы было достаточно на каждом иерархическом шаге учитывать только изменения, не дублируя всё остальное, учтённое на предыдущих шагах;\n",
    "    \n",
    "   * **полиморфизм** для определения точки, в которой единое управление лучше распараллелить или наоборот — собрать воедино.\n",
    "   \n",
    "В данной лекции будут затронуты лишь базовые понятия ООП в Python, достаточные для дальнейшего углубления в тему, и поверхностного самостоятельного понимания сторонних модулей.\n",
    "\n",
    "## Зачем это надо?\n",
    "\n",
    " * Язык Python базируется на концепции ООП. Большая часть специализированного применения также подразумевает ООП. Часто, документацией к некоторым пакетам является просто исходный код с комментариями.\n",
    " * Можно писать свои небольшие пакеты, удобные для стороннего использования (или для самостоятельного использования, но позже). Нет необходимости разбираться сколько и каких аргументов требуется передать. Все можно заранее предусмотреть в самом классе, и не тратить время на воспоминания о том что именно и как делает этот код.\n",
    " * Удобно для написания собственных рутинных \"оболочек\" для сторонних пакетов (например для matplotlib).\n",
    "\n",
    "\n",
    "## Классы в Python\n",
    "\n",
    "Python является объектно-ориентированным языком. Каждый используемый элемент (даже числа) в нем является объектом с теми или иными заданными методами.\n",
    "\n",
    "Создание класса происходит простым способом:"
   ]
  },
  {
   "cell_type": "code",
   "execution_count": null,
   "metadata": {},
   "outputs": [],
   "source": [
    "class ClassName(object):\n",
    "  # методы и атрибуты класса ClassName"
   ]
  },
  {
   "cell_type": "markdown",
   "metadata": {},
   "source": [
    "**Примечание** По общей договоренности название классов пишется слитно с заглавных букв, а функций, методов и констат с маленьких разделителем \"_\".\n",
    "\n",
    "Создадим наш новый класс для описания атомов:"
   ]
  },
  {
   "cell_type": "code",
   "execution_count": 11,
   "metadata": {},
   "outputs": [
    {
     "name": "stdout",
     "output_type": "stream",
     "text": [
      "<class '__main__.Atom'>\n",
      "C\n",
      "1 2 3\n",
      "H 1.00784\n"
     ]
    }
   ],
   "source": [
    "class Atom(object):\n",
    "    element = 'C'\n",
    "    def set_coord(self, coords):\n",
    "        self.x, self.y, self.z = coords # меняем атрибуты класса\n",
    "\n",
    "\n",
    "a1=Atom() # создаем объект класса Atom\n",
    "\n",
    "print(type(a1))\n",
    "print(a1.element) #выводим заданные атрибуты класса\n",
    "\n",
    "a1.set_coord([1,2,3])   # используем метод класса\n",
    "print(a1.x, a1.y, a1.z) # выводим новые атрибуты класса\n",
    "\n",
    "a1.element = 'H'\n",
    "a1.mass = 1.00784       # добавляем или изменяем атрибут или метод\n",
    "a2=Atom()\n",
    "print(a1.element, a1.mass)"
   ]
  },
  {
   "cell_type": "markdown",
   "metadata": {},
   "source": [
    "Для наследования свойств класса, родительские классы достаточно указать в скобках при описании дочернего класса. При этом атрибуты и методы родительского могут быть вызванны и/или переопределенны из дочернего."
   ]
  },
  {
   "cell_type": "code",
   "execution_count": 10,
   "metadata": {},
   "outputs": [
    {
     "name": "stdout",
     "output_type": "stream",
     "text": [
      "None\n",
      "1 2 3\n"
     ]
    }
   ],
   "source": [
    "class DummyAtom(Atom):\n",
    "    element = None\n",
    "\n",
    "da1 = DummyAtom()\n",
    "print(da1.element)\n",
    "\n",
    "da1.set_coord([1,2,3])   # используем метод родительского класса\n",
    "print(da1.x, da1.y, da1.z)"
   ]
  },
  {
   "cell_type": "markdown",
   "metadata": {},
   "source": [
    "## Специальные (магические) методы\n",
    "\n",
    "Для того чтобы узнать какие у класса есть методы и атрибуты существует стандартная функция `dir()`"
   ]
  },
  {
   "cell_type": "code",
   "execution_count": 12,
   "metadata": {},
   "outputs": [
    {
     "name": "stdout",
     "output_type": "stream",
     "text": [
      "['__class__', '__delattr__', '__dict__', '__dir__', '__doc__', '__eq__', '__format__', '__ge__', '__getattribute__', '__gt__', '__hash__', '__init__', '__init_subclass__', '__le__', '__lt__', '__module__', '__ne__', '__new__', '__reduce__', '__reduce_ex__', '__repr__', '__setattr__', '__sizeof__', '__str__', '__subclasshook__', '__weakref__', 'element', 'set_coord']\n"
     ]
    }
   ],
   "source": [
    "print(dir(Atom))"
   ]
  },
  {
   "cell_type": "markdown",
   "metadata": {},
   "source": [
    "Последние два создали мы, остальные являются специальными методами класса. По аналогии с функцией dir() вам могут быть полезны следующие методы (в Python классы тоже являются объектами):"
   ]
  },
  {
   "cell_type": "code",
   "execution_count": 42,
   "metadata": {},
   "outputs": [
    {
     "name": "stdout",
     "output_type": "stream",
     "text": [
      "{'x': 1, 'y': 2, 'z': 3, 'element': 'H', 'mass': 1.00784}\n",
      "['x', 'y', 'z', 'element', 'mass', '__module__', 'set_coord', '__dict__', '__weakref__', '__doc__', '__repr__', '__hash__', '__str__', '__getattribute__', '__setattr__', '__delattr__', '__lt__', '__le__', '__eq__', '__ne__', '__gt__', '__ge__', '__init__', '__new__', '__reduce_ex__', '__reduce__', '__subclasshook__', '__init_subclass__', '__format__', '__sizeof__', '__dir__', '__class__']\n"
     ]
    }
   ],
   "source": [
    "print(a1.__dict__)    # словарь всех публичных атрибутов объекта\n",
    "print(a1.__dir__())   # тоже что и dir для класса, только для объекта"
   ]
  },
  {
   "cell_type": "markdown",
   "metadata": {},
   "source": [
    "## Инициализация объекта\n",
    "\n",
    "Для выполнения какой-то логики для объекта при его иницилизации используется метод `__init__`. Перезададим наш класс `Atom`"
   ]
  },
  {
   "cell_type": "code",
   "execution_count": 22,
   "metadata": {},
   "outputs": [
    {
     "name": "stdout",
     "output_type": "stream",
     "text": [
      "{'element': 'H', 'mass': 1.00784, 'x': 1, 'y': 2, 'z': 3, 'coords': array([1, 2, 3])}\n"
     ]
    }
   ],
   "source": [
    "import numpy as np\n",
    "\n",
    "class Atom(object):\n",
    "    def __str__(self):\n",
    "        return self.element\n",
    "    def set_coord(self, coords):\n",
    "        self.x, self.y, self.z = coords # меняем атрибуты класса\n",
    "    \n",
    "    _massDict={'H':1.00784,  # не публичные атрибуьы начинаются с _\n",
    "               'O':15.999,   # к ним можно получить доступ,\n",
    "               'C':12.0107,  # но в чужом коде их лучше не трогать\n",
    "               'N':14.0067}\n",
    "    \n",
    "    def __init__(self, element, coords):\n",
    "        self.element=element\n",
    "        self.mass = self._massDict[element]\n",
    "        self.set_coord(coords)\n",
    "        self.coords=np.array(coords)\n",
    "\n",
    "a1=Atom('H',[1,2,3])\n",
    "print(a1.__dict__)"
   ]
  },
  {
   "cell_type": "markdown",
   "metadata": {},
   "source": [
    "## Итерация по объекту\n",
    "\n",
    "Создадим новый класс Molecule. И сделаем так, чтобы мы могли итерировать молекулу по атомам. Для этого определим следующие методы (на деле их больше, см. сontainer special methods):\n",
    "\n",
    "   * `__len__(self)` - возвращаем значения для функции `len`\n",
    "   \n",
    "   * `__getitem__(self, key)` - Определяет поведение при доступе к элементу, используя синтаксис `self[key]`.\n",
    "   \n",
    "   * `__iter__(self)` - Должен вернуть итератор для контейнера. Проще всего с помощью встроенной функции `iter(self.some_list)`"
   ]
  },
  {
   "cell_type": "code",
   "execution_count": 23,
   "metadata": {},
   "outputs": [
    {
     "name": "stdout",
     "output_type": "stream",
     "text": [
      "3\n",
      "O 0.0 0.0 0.0\n",
      "H 0.757 0.586 0.0\n",
      "H -0.757 0.586 0.0\n",
      "[<__main__.Atom object at 0x000001E86B8316C8>, <__main__.Atom object at 0x000001E86B831888>]\n",
      "18.014680000000002\n",
      "[0.         0.06556811 0.        ]\n"
     ]
    }
   ],
   "source": [
    "class Molecule:\n",
    "    def __init__(self, list_of_atoms=None):\n",
    "        if list_of_atoms: \n",
    "            self.list_of_atoms = list_of_atoms\n",
    "        else: self.list_of_atoms = []\n",
    "            \n",
    "    def __len__(self):\n",
    "        return len(self.list_of_atoms)\n",
    "    \n",
    "    def __getitem__(self, element):\n",
    "        \"возвращаем список всех атомов заданного типа\"\n",
    "        list_to_return=[]\n",
    "        for atom in self.list_of_atoms:\n",
    "            if atom.element==element:\n",
    "                list_to_return.append(atom)\n",
    "        return list_to_return\n",
    "    \n",
    "    def __iter__(self):\n",
    "        return iter(self.list_of_atoms)\n",
    "    \n",
    "    def add_atom(self, atom):\n",
    "        self.list_of_atoms.append(atom)\n",
    "    \n",
    "    # а не посчитать ли нам центр масс и молярную массу?\n",
    "    def molar_mass(self):\n",
    "        molar=0\n",
    "        for atom in self.list_of_atoms:\n",
    "            molar+= atom.mass\n",
    "        return molar\n",
    "    \n",
    "    def center_of_mass(self):\n",
    "        CoM=np.array([0., 0., 0.])\n",
    "        for atom in self.list_of_atoms:\n",
    "            CoM+= atom.mass*atom.coords\n",
    "        return CoM/self.molar_mass()\n",
    "        \n",
    "m1=Molecule() #создаем пустую молекулу\n",
    "\n",
    "water = [['O',  0.000, 0.000, 0.0],\n",
    "         ['H',  0.757, 0.586, 0.0],\n",
    "         ['H', -0.757, 0.586, 0.0]]\n",
    "\n",
    "for a in water:\n",
    "    m1.add_atom(Atom(a[0], a[1:]))  #заполняем молекулу атомами\n",
    "#len(Atom(water[0][0], water[0][1:]))\n",
    "print(len(m1))\n",
    "\n",
    "for atom in m1:\n",
    "    print(atom.element, atom.x, atom.y,  atom.z)\n",
    "\n",
    "print(m1['H'])\n",
    "\n",
    "print(m1.molar_mass())\n",
    "print(m1.center_of_mass())"
   ]
  },
  {
   "cell_type": "markdown",
   "metadata": {},
   "source": [
    "## Определение арифметических и логических операций\n",
    "\n",
    "Отношение к арифметическим операциям также можно определять спеуиальными методами. Несколько примеров (далеко не все) приведенны ниже:\n",
    "   * `__add__(self, other)` - Сложение.\n",
    "   * `__sub__(self, other)` - Вычитание.\n",
    "   * `__mul__(self, other)` - Умножение.\n",
    "   * `__div__(self, other)` - Деление, оператор /.\n",
    "   \n",
    "Для логических операций можно также определить исход сравнения:\n",
    "\n",
    "   * `__eq__(self, other)` определяет поведение оператора `==`\n",
    "   * `__ne__(self, other)` определяет поведение оператора `!=`\n",
    "   * `__lt__(self, other)` определяет поведение оператора `<`\n",
    "   * `__gt__(self, other)` определяет поведение оператора `>`\n",
    "   * `__le__(self, other)` определяет поведение оператора `<=`\n",
    "   * `__ge__(self, other)` определяет поведение оператора `>=`\n",
    " \n",
    "Модернизируем наш класс `Atoms`, чтобы при сложении возвращало молекулу, а сравнение происходило основываясь на массах атомов."
   ]
  },
  {
   "cell_type": "code",
   "execution_count": 26,
   "metadata": {},
   "outputs": [
    {
     "name": "stdout",
     "output_type": "stream",
     "text": [
      "<class '__main__.Molecule'>\n",
      "True\n"
     ]
    }
   ],
   "source": [
    "class Atom(object):\n",
    "    def set_coord(self, coords):\n",
    "        self.x, self.y, self.z = coords # меняем атрибуты класса\n",
    "    \n",
    "    _massDict={'H':1.00784,  # не публичные атрибуьы начинаются с _\n",
    "               'O':15.999,   # к ним можно получить доступ,\n",
    "               'C':12.0107,  # но в чужом коде их лучше не трогать\n",
    "               'N':14.0067}\n",
    "    \n",
    "    def __init__(self, element, coords):\n",
    "        self.element=element\n",
    "        self.mass = self._massDict[element]\n",
    "        self.set_coord(coords)\n",
    "        self.coords=np.array(coords)\n",
    "        \n",
    "    def __add__(self, at2):\n",
    "        return Molecule([self, at2])\n",
    "    \n",
    "    def __eq__(self, at2):\n",
    "        return (self.mass==at2.mass)\n",
    "    \n",
    "    def __lt__(self, at2):\n",
    "        return (self.mass<at2.mass)\n",
    "    #остальные операции сравнения по аналогии\n",
    "    \n",
    "h=Atom('H',[0,0,0])\n",
    "h_=Atom('O',[1,0,0])\n",
    "H2 = h+h_\n",
    "print(type(H2))\n",
    "print(h<h_)"
   ]
  },
  {
   "cell_type": "markdown",
   "metadata": {},
   "source": [
    "# Большой пример.\n",
    "\n",
    "Попробуем что-нибудь порисовать. Для работы с простейшими графическими приложениями нам потребуется модуль `tkinter`. Для работы со временем библиотека `time`."
   ]
  },
  {
   "cell_type": "code",
   "execution_count": 29,
   "metadata": {},
   "outputs": [
    {
     "ename": "TclError",
     "evalue": "invalid command name \".!canvas\"",
     "output_type": "error",
     "traceback": [
      "\u001b[1;31m---------------------------------------------------------------------------\u001b[0m",
      "\u001b[1;31mTclError\u001b[0m                                  Traceback (most recent call last)",
      "\u001b[1;32m<ipython-input-29-c13e20948726>\u001b[0m in \u001b[0;36m<module>\u001b[1;34m\u001b[0m\n\u001b[0;32m     24\u001b[0m \u001b[1;32mwhile\u001b[0m \u001b[1;32mTrue\u001b[0m\u001b[1;33m:\u001b[0m\u001b[1;33m\u001b[0m\u001b[1;33m\u001b[0m\u001b[0m\n\u001b[0;32m     25\u001b[0m     \u001b[1;31m#смещаем позицию круга\u001b[0m\u001b[1;33m\u001b[0m\u001b[1;33m\u001b[0m\u001b[1;33m\u001b[0m\u001b[0m\n\u001b[1;32m---> 26\u001b[1;33m     \u001b[0mcanvas\u001b[0m\u001b[1;33m.\u001b[0m\u001b[0mmove\u001b[0m\u001b[1;33m(\u001b[0m\u001b[0mball1\u001b[0m\u001b[1;33m,\u001b[0m\u001b[0mxa\u001b[0m\u001b[1;33m,\u001b[0m\u001b[0mya\u001b[0m\u001b[1;33m)\u001b[0m\u001b[1;33m\u001b[0m\u001b[1;33m\u001b[0m\u001b[0m\n\u001b[0m\u001b[0;32m     27\u001b[0m     \u001b[0mpos\u001b[0m\u001b[1;33m=\u001b[0m\u001b[0mcanvas\u001b[0m\u001b[1;33m.\u001b[0m\u001b[0mcoords\u001b[0m\u001b[1;33m(\u001b[0m\u001b[0mball1\u001b[0m\u001b[1;33m)\u001b[0m\u001b[1;33m\u001b[0m\u001b[1;33m\u001b[0m\u001b[0m\n\u001b[0;32m     28\u001b[0m \u001b[1;33m\u001b[0m\u001b[0m\n",
      "\u001b[1;32mC:\\ProgramData\\Anaconda3\\lib\\tkinter\\__init__.py\u001b[0m in \u001b[0;36mmove\u001b[1;34m(self, *args)\u001b[0m\n\u001b[0;32m   2589\u001b[0m     \u001b[1;32mdef\u001b[0m \u001b[0mmove\u001b[0m\u001b[1;33m(\u001b[0m\u001b[0mself\u001b[0m\u001b[1;33m,\u001b[0m \u001b[1;33m*\u001b[0m\u001b[0margs\u001b[0m\u001b[1;33m)\u001b[0m\u001b[1;33m:\u001b[0m\u001b[1;33m\u001b[0m\u001b[1;33m\u001b[0m\u001b[0m\n\u001b[0;32m   2590\u001b[0m         \u001b[1;34m\"\"\"Move an item TAGORID given in ARGS.\"\"\"\u001b[0m\u001b[1;33m\u001b[0m\u001b[1;33m\u001b[0m\u001b[0m\n\u001b[1;32m-> 2591\u001b[1;33m         \u001b[0mself\u001b[0m\u001b[1;33m.\u001b[0m\u001b[0mtk\u001b[0m\u001b[1;33m.\u001b[0m\u001b[0mcall\u001b[0m\u001b[1;33m(\u001b[0m\u001b[1;33m(\u001b[0m\u001b[0mself\u001b[0m\u001b[1;33m.\u001b[0m\u001b[0m_w\u001b[0m\u001b[1;33m,\u001b[0m \u001b[1;34m'move'\u001b[0m\u001b[1;33m)\u001b[0m \u001b[1;33m+\u001b[0m \u001b[0margs\u001b[0m\u001b[1;33m)\u001b[0m\u001b[1;33m\u001b[0m\u001b[1;33m\u001b[0m\u001b[0m\n\u001b[0m\u001b[0;32m   2592\u001b[0m     \u001b[1;32mdef\u001b[0m \u001b[0mpostscript\u001b[0m\u001b[1;33m(\u001b[0m\u001b[0mself\u001b[0m\u001b[1;33m,\u001b[0m \u001b[0mcnf\u001b[0m\u001b[1;33m=\u001b[0m\u001b[1;33m{\u001b[0m\u001b[1;33m}\u001b[0m\u001b[1;33m,\u001b[0m \u001b[1;33m**\u001b[0m\u001b[0mkw\u001b[0m\u001b[1;33m)\u001b[0m\u001b[1;33m:\u001b[0m\u001b[1;33m\u001b[0m\u001b[1;33m\u001b[0m\u001b[0m\n\u001b[0;32m   2593\u001b[0m         \"\"\"Print the contents of the canvas to a postscript\n",
      "\u001b[1;31mTclError\u001b[0m: invalid command name \".!canvas\""
     ]
    }
   ],
   "source": [
    "import tkinter as tk\n",
    "import time\n",
    "\n",
    "gui = tk.Tk()      # инициализируем модуль\n",
    "gui.geometry(\"800x600\")   #создаем пустое окно\n",
    "gui.title(\"окошко\")\n",
    "\n",
    "#инструмент для рисования\n",
    "canvas = tk.Canvas(gui, width=800,height=600,bg='white') \n",
    "canvas.pack()\n",
    "\n",
    "#рисуем линию\n",
    "canvas.create_line(0, 300, 150, 150, width=10, fill='green')\n",
    "# рисуем квадратик\n",
    "rect = canvas.create_rectangle(300,100, 400, 200, fill='#0000ff')\n",
    "#рисуем шарик\n",
    "ball1 = canvas.create_oval(100,100,150,150, width=2, fill='#ff0000')\n",
    "\n",
    "\n",
    "#задаем смещение круга за шаг\n",
    "xa=2\n",
    "ya=5\n",
    "\n",
    "while True:\n",
    "    #смещаем позицию круга\n",
    "    canvas.move(ball1,xa,ya)\n",
    "    pos=canvas.coords(ball1)\n",
    "\n",
    "    # отражаем от стен\n",
    "    if pos[3] >=600 or pos[1] <=0:\n",
    "        ya = -ya\n",
    "    if pos[2] >=800 or pos[0] <=0:\n",
    "        xa = -xa\n",
    " \n",
    "    # обновляем состояние окна\n",
    "    gui.update()\n",
    "    #time.sleep(.025)"
   ]
  },
  {
   "cell_type": "markdown",
   "metadata": {},
   "source": [
    "создадим объект который будет обновляться по своим правилам"
   ]
  },
  {
   "cell_type": "code",
   "execution_count": 30,
   "metadata": {},
   "outputs": [],
   "source": [
    "import numpy as np\n",
    "\n",
    "\n",
    "class Ball(object):\n",
    "    def __init__(self, canvas):\n",
    "        x = np.random.randint(0, 800)\n",
    "        y = np.random.randint(0, 600)\n",
    "        self.x_priv = x - np.random.randint(-5, 5)\n",
    "        self.y_priv = y - np.random.randint(-5, 5)\n",
    "        self.canvas = canvas\n",
    "        self.icanv = self.canvas.create_oval(x, y, x + 10, y + 10, \n",
    "                                             width=2, fill='blue')\n",
    "        pos = canvas.coords(self.icanv)\n",
    "        self.x = (pos[0] + pos[2]) / 2\n",
    "        self.y = (pos[1] + pos[3]) / 2\n",
    "\n",
    "    def _a(self):\n",
    "\n",
    "\n",
    "        m = 2\n",
    "        return [0, 10 / m]\n",
    "\n",
    "    def move(self):\n",
    "        'используем алгоритм Верле'\n",
    "        dt = 0.1\n",
    "        ax, ay = self._a()\n",
    "\n",
    "        dx = self.x - self.x_priv + ax * dt ** 2\n",
    "        dy = self.y - self.y_priv + ay * dt ** 2\n",
    "        #отражаем от стен или просто обновляем\n",
    "        if self.x + dx > 790 or self.x + dx<10:\n",
    "            self.x_priv = self.x\n",
    "            self.x -= dx\n",
    "        else:\n",
    "            self.x_priv = self.x\n",
    "            self.x += dx\n",
    "\n",
    "        if self.y + dy > 590 or self.y + dy<10:\n",
    "            self.y_priv = self.y\n",
    "            self.y -= dy\n",
    "        else:\n",
    "            self.y_priv = self.y\n",
    "            self.y += dy\n",
    "\n",
    "        # смещаем позицию круга\n",
    "        self.canvas.move(self.icanv, dx, dy)"
   ]
  },
  {
   "cell_type": "markdown",
   "metadata": {},
   "source": [
    "Запускаем наш код заново"
   ]
  },
  {
   "cell_type": "code",
   "execution_count": 32,
   "metadata": {},
   "outputs": [
    {
     "ename": "TclError",
     "evalue": "invalid command name \".!canvas\"",
     "output_type": "error",
     "traceback": [
      "\u001b[1;31m---------------------------------------------------------------------------\u001b[0m",
      "\u001b[1;31mTclError\u001b[0m                                  Traceback (most recent call last)",
      "\u001b[1;32m<ipython-input-32-0b24694e8560>\u001b[0m in \u001b[0;36m<module>\u001b[1;34m\u001b[0m\n\u001b[0;32m     14\u001b[0m \u001b[1;33m\u001b[0m\u001b[0m\n\u001b[0;32m     15\u001b[0m \u001b[1;32mwhile\u001b[0m \u001b[1;32mTrue\u001b[0m\u001b[1;33m:\u001b[0m\u001b[1;33m\u001b[0m\u001b[1;33m\u001b[0m\u001b[0m\n\u001b[1;32m---> 16\u001b[1;33m     \u001b[0mball1\u001b[0m\u001b[1;33m.\u001b[0m\u001b[0mmove\u001b[0m\u001b[1;33m(\u001b[0m\u001b[1;33m)\u001b[0m\u001b[1;33m\u001b[0m\u001b[1;33m\u001b[0m\u001b[0m\n\u001b[0m\u001b[0;32m     17\u001b[0m     \u001b[0mball2\u001b[0m\u001b[1;33m.\u001b[0m\u001b[0mmove\u001b[0m\u001b[1;33m(\u001b[0m\u001b[1;33m)\u001b[0m\u001b[1;33m\u001b[0m\u001b[1;33m\u001b[0m\u001b[0m\n\u001b[0;32m     18\u001b[0m     \u001b[0mgui\u001b[0m\u001b[1;33m.\u001b[0m\u001b[0mupdate\u001b[0m\u001b[1;33m(\u001b[0m\u001b[1;33m)\u001b[0m\u001b[1;33m\u001b[0m\u001b[1;33m\u001b[0m\u001b[0m\n",
      "\u001b[1;32m<ipython-input-30-7d637f64e098>\u001b[0m in \u001b[0;36mmove\u001b[1;34m(self)\u001b[0m\n\u001b[0;32m     44\u001b[0m \u001b[1;33m\u001b[0m\u001b[0m\n\u001b[0;32m     45\u001b[0m         \u001b[1;31m# смещаем позицию круга\u001b[0m\u001b[1;33m\u001b[0m\u001b[1;33m\u001b[0m\u001b[1;33m\u001b[0m\u001b[0m\n\u001b[1;32m---> 46\u001b[1;33m         \u001b[0mself\u001b[0m\u001b[1;33m.\u001b[0m\u001b[0mcanvas\u001b[0m\u001b[1;33m.\u001b[0m\u001b[0mmove\u001b[0m\u001b[1;33m(\u001b[0m\u001b[0mself\u001b[0m\u001b[1;33m.\u001b[0m\u001b[0micanv\u001b[0m\u001b[1;33m,\u001b[0m \u001b[0mdx\u001b[0m\u001b[1;33m,\u001b[0m \u001b[0mdy\u001b[0m\u001b[1;33m)\u001b[0m\u001b[1;33m\u001b[0m\u001b[1;33m\u001b[0m\u001b[0m\n\u001b[0m",
      "\u001b[1;32mC:\\ProgramData\\Anaconda3\\lib\\tkinter\\__init__.py\u001b[0m in \u001b[0;36mmove\u001b[1;34m(self, *args)\u001b[0m\n\u001b[0;32m   2589\u001b[0m     \u001b[1;32mdef\u001b[0m \u001b[0mmove\u001b[0m\u001b[1;33m(\u001b[0m\u001b[0mself\u001b[0m\u001b[1;33m,\u001b[0m \u001b[1;33m*\u001b[0m\u001b[0margs\u001b[0m\u001b[1;33m)\u001b[0m\u001b[1;33m:\u001b[0m\u001b[1;33m\u001b[0m\u001b[1;33m\u001b[0m\u001b[0m\n\u001b[0;32m   2590\u001b[0m         \u001b[1;34m\"\"\"Move an item TAGORID given in ARGS.\"\"\"\u001b[0m\u001b[1;33m\u001b[0m\u001b[1;33m\u001b[0m\u001b[0m\n\u001b[1;32m-> 2591\u001b[1;33m         \u001b[0mself\u001b[0m\u001b[1;33m.\u001b[0m\u001b[0mtk\u001b[0m\u001b[1;33m.\u001b[0m\u001b[0mcall\u001b[0m\u001b[1;33m(\u001b[0m\u001b[1;33m(\u001b[0m\u001b[0mself\u001b[0m\u001b[1;33m.\u001b[0m\u001b[0m_w\u001b[0m\u001b[1;33m,\u001b[0m \u001b[1;34m'move'\u001b[0m\u001b[1;33m)\u001b[0m \u001b[1;33m+\u001b[0m \u001b[0margs\u001b[0m\u001b[1;33m)\u001b[0m\u001b[1;33m\u001b[0m\u001b[1;33m\u001b[0m\u001b[0m\n\u001b[0m\u001b[0;32m   2592\u001b[0m     \u001b[1;32mdef\u001b[0m \u001b[0mpostscript\u001b[0m\u001b[1;33m(\u001b[0m\u001b[0mself\u001b[0m\u001b[1;33m,\u001b[0m \u001b[0mcnf\u001b[0m\u001b[1;33m=\u001b[0m\u001b[1;33m{\u001b[0m\u001b[1;33m}\u001b[0m\u001b[1;33m,\u001b[0m \u001b[1;33m**\u001b[0m\u001b[0mkw\u001b[0m\u001b[1;33m)\u001b[0m\u001b[1;33m:\u001b[0m\u001b[1;33m\u001b[0m\u001b[1;33m\u001b[0m\u001b[0m\n\u001b[0;32m   2593\u001b[0m         \"\"\"Print the contents of the canvas to a postscript\n",
      "\u001b[1;31mTclError\u001b[0m: invalid command name \".!canvas\""
     ]
    }
   ],
   "source": [
    "import tkinter as tk\n",
    "import time\n",
    "gui = tk.Tk()      # инициализируем модуль\n",
    "gui.geometry(\"800x600\")   #создаем пустое окно\n",
    "gui.title(\"окошко\")\n",
    "\n",
    "#инструмент для рисования\n",
    "canvas = tk.Canvas(gui, width=800,height=600,bg='white')\n",
    "canvas.pack()\n",
    "\n",
    "#создаем объект\n",
    "ball1 = Ball(canvas)\n",
    "ball2 = Ball(canvas)\n",
    "\n",
    "while True:\n",
    "    ball1.move()\n",
    "    ball2.move()\n",
    "    gui.update()\n",
    "    time.sleep(.025)"
   ]
  },
  {
   "cell_type": "markdown",
   "metadata": {},
   "source": [
    "Попробуем создать более физичный \"шарик\". Будем считать что все шарики взаимодействют друг с дркгом согласно потенциалу Леннарда-Джонса: $U_{LJ} = 4\\varepsilon \\left[ \\left(\\frac{\\sigma}{r}\\right)^{12}-\\left(\\frac{\\sigma}{r}\\right)^6 \\right]$. \n",
    "\n",
    "Помимо этого, обновим граничные условия (по мере приближения к границы энергия шарика начне расти квадратично), и добавим специальную окраску шарикам.\n",
    "\n",
    "**Примечание**: такая модель применяется для моделирования идеальных газов методом молекулярной динамики. Стоит отметить, что конкретно *этот пример крайне слабо связан с реальными алгоритмами МД*, в виду абсолютно неразумного расходования вычислительных ресурсов, а призван лишь продемонстрировать пример ООП."
   ]
  },
  {
   "cell_type": "code",
   "execution_count": 37,
   "metadata": {},
   "outputs": [],
   "source": [
    "import numpy as np\n",
    "\n",
    "class Ball(object):\n",
    "    \n",
    "    def __init__(self, canvas,x,y):\n",
    "        #начальное состояние\n",
    "        v0=2\n",
    "        self.x_priv = x+(np.random.rand()-0.5)*v0\n",
    "        self.y_priv = y+(np.random.rand()-0.5)*v0\n",
    "        #добавляем картинку\n",
    "        self.canvas = canvas\n",
    "        self.icanv = self.canvas.create_oval(x, y, x + 10, y + 10, \n",
    "                                             width=2, fill='#ffffff')\n",
    "        pos = canvas.coords(self.icanv)\n",
    "        self.x = x\n",
    "        self.y = y\n",
    "        # список соседей\n",
    "        self.neighb=[]\n",
    "\n",
    "    def _U(self,x,y):\n",
    "        #параметры потенциала\n",
    "        E=4\n",
    "        sigma=20\n",
    "        \n",
    "        U=0.\n",
    "        # отражаем от границ\n",
    "        if x>750: U+=(x-750)**4\n",
    "        if x<50: U+=(50-x)**4\n",
    "        if y>550: U+=(y-550)**4\n",
    "        if y<50: U+=(50-y)**4\n",
    "            \n",
    "        #считаем потенциальную энергию\n",
    "        for a in self.neighb:\n",
    "            r = ((a.x - x) ** 2 + (a.y - y) ** 2) ** 0.5\n",
    "            U+=4*E*((sigma/r)**12-(sigma/r)**6)\n",
    "        return U\n",
    "\n",
    "    def calc_a(self):\n",
    "        \"считаем ускорение как градиент силы\"\n",
    "        m = 1\n",
    "        dr=0.0001\n",
    "        self.U0=self._U(self.x,self.y)\n",
    "        Fx = -(self._U(self.x + dr, self.y) - self.U0) / dr\n",
    "        Fy = -(self._U(self.x, self.y + dr) - self.U0) / dr\n",
    "        self.a=[Fx/m,Fy/m]\n",
    "\n",
    "    def update_color(self):\n",
    "        bs=255/90\n",
    "        rs=255/1000\n",
    "        if self.U0<=0:\n",
    "            if self.U0<-90:color='#0000ff'\n",
    "            else:color='#{:02x}{:02x}ff'.format(255+int(bs*self.U0), \n",
    "                                                255+int(bs*self.U0))\n",
    "        if self.U0>0:\n",
    "            if self.U0>1000:color='#ff0000'\n",
    "            else:color='#ff{:02x}{:02x}'.format(255-int(rs*self.U0),\n",
    "                                                255-int(rs*self.U0))\n",
    "        self.canvas.itemconfig(self.icanv, fill=color)\n",
    "\n",
    "    def recalc_neighb(self, all_list):\n",
    "        \"просто перебираем все шарики\"\n",
    "        for a in all_list:\n",
    "            r=((a.x-self.x)**2+(a.y-self.y)**2)**0.5\n",
    "            if r<40 and self.icanv!=a.icanv: self.neighb.append(a)\n",
    "\n",
    "    def move(self):\n",
    "        'используем алгоритм Верле'\n",
    "        dt = 0.01\n",
    "        ax, ay = self.a\n",
    "        dx = self.x - self.x_priv + ax * dt ** 2\n",
    "        dy = self.y - self.y_priv + ay * dt ** 2\n",
    "\n",
    "        # немного остужаем систему на каждом шаге\n",
    "        dx*=0.99999\n",
    "        dy*=0.99999\n",
    "\n",
    "        self.x_priv = self.x\n",
    "        self.y_priv = self.y\n",
    "\n",
    "        self.x += dx\n",
    "        self.y += dy\n",
    "\n",
    "        # смещаем позицию круга\n",
    "        self.canvas.move(self.icanv, dx, dy)"
   ]
  },
  {
   "cell_type": "markdown",
   "metadata": {},
   "source": [
    "Запустим также немного модернизированное окошко с шариками"
   ]
  },
  {
   "cell_type": "code",
   "execution_count": 39,
   "metadata": {},
   "outputs": [
    {
     "ename": "TclError",
     "evalue": "invalid command name \".!canvas\"",
     "output_type": "error",
     "traceback": [
      "\u001b[1;31m---------------------------------------------------------------------------\u001b[0m",
      "\u001b[1;31mTclError\u001b[0m                                  Traceback (most recent call last)",
      "\u001b[1;32m<ipython-input-39-9d27f3f95732>\u001b[0m in \u001b[0;36m<module>\u001b[1;34m\u001b[0m\n\u001b[0;32m     32\u001b[0m \u001b[1;33m\u001b[0m\u001b[0m\n\u001b[0;32m     33\u001b[0m     \u001b[1;32mfor\u001b[0m \u001b[0mball\u001b[0m \u001b[1;32min\u001b[0m \u001b[0mlist_of_balls\u001b[0m\u001b[1;33m:\u001b[0m\u001b[1;33m\u001b[0m\u001b[1;33m\u001b[0m\u001b[0m\n\u001b[1;32m---> 34\u001b[1;33m         \u001b[0mball\u001b[0m\u001b[1;33m.\u001b[0m\u001b[0mupdate_color\u001b[0m\u001b[1;33m(\u001b[0m\u001b[1;33m)\u001b[0m \u001b[1;31m#обновляем цвет и двигаем\u001b[0m\u001b[1;33m\u001b[0m\u001b[1;33m\u001b[0m\u001b[0m\n\u001b[0m\u001b[0;32m     35\u001b[0m         \u001b[0mball\u001b[0m\u001b[1;33m.\u001b[0m\u001b[0mmove\u001b[0m\u001b[1;33m(\u001b[0m\u001b[1;33m)\u001b[0m\u001b[1;33m\u001b[0m\u001b[1;33m\u001b[0m\u001b[0m\n\u001b[0;32m     36\u001b[0m     \u001b[0mgui\u001b[0m\u001b[1;33m.\u001b[0m\u001b[0mupdate\u001b[0m\u001b[1;33m(\u001b[0m\u001b[1;33m)\u001b[0m\u001b[1;33m\u001b[0m\u001b[1;33m\u001b[0m\u001b[0m\n",
      "\u001b[1;32m<ipython-input-37-590757c6bb7d>\u001b[0m in \u001b[0;36mupdate_color\u001b[1;34m(self)\u001b[0m\n\u001b[0;32m     56\u001b[0m             else:color='#ff{:02x}{:02x}'.format(255-int(rs*self.U0),\n\u001b[0;32m     57\u001b[0m                                                 255-int(rs*self.U0))\n\u001b[1;32m---> 58\u001b[1;33m         \u001b[0mself\u001b[0m\u001b[1;33m.\u001b[0m\u001b[0mcanvas\u001b[0m\u001b[1;33m.\u001b[0m\u001b[0mitemconfig\u001b[0m\u001b[1;33m(\u001b[0m\u001b[0mself\u001b[0m\u001b[1;33m.\u001b[0m\u001b[0micanv\u001b[0m\u001b[1;33m,\u001b[0m \u001b[0mfill\u001b[0m\u001b[1;33m=\u001b[0m\u001b[0mcolor\u001b[0m\u001b[1;33m)\u001b[0m\u001b[1;33m\u001b[0m\u001b[1;33m\u001b[0m\u001b[0m\n\u001b[0m\u001b[0;32m     59\u001b[0m \u001b[1;33m\u001b[0m\u001b[0m\n\u001b[0;32m     60\u001b[0m     \u001b[1;32mdef\u001b[0m \u001b[0mrecalc_neighb\u001b[0m\u001b[1;33m(\u001b[0m\u001b[0mself\u001b[0m\u001b[1;33m,\u001b[0m \u001b[0mall_list\u001b[0m\u001b[1;33m)\u001b[0m\u001b[1;33m:\u001b[0m\u001b[1;33m\u001b[0m\u001b[1;33m\u001b[0m\u001b[0m\n",
      "\u001b[1;32mC:\\ProgramData\\Anaconda3\\lib\\tkinter\\__init__.py\u001b[0m in \u001b[0;36mitemconfigure\u001b[1;34m(self, tagOrId, cnf, **kw)\u001b[0m\n\u001b[0;32m   2576\u001b[0m         \u001b[0mthe\u001b[0m \u001b[0mallowed\u001b[0m \u001b[0mkeyword\u001b[0m \u001b[0marguments\u001b[0m \u001b[0mcall\u001b[0m \u001b[0mthe\u001b[0m \u001b[0mmethod\u001b[0m \u001b[0mwithout\u001b[0m \u001b[0marguments\u001b[0m\u001b[1;33m.\u001b[0m\u001b[1;33m\u001b[0m\u001b[1;33m\u001b[0m\u001b[0m\n\u001b[0;32m   2577\u001b[0m         \"\"\"\n\u001b[1;32m-> 2578\u001b[1;33m         \u001b[1;32mreturn\u001b[0m \u001b[0mself\u001b[0m\u001b[1;33m.\u001b[0m\u001b[0m_configure\u001b[0m\u001b[1;33m(\u001b[0m\u001b[1;33m(\u001b[0m\u001b[1;34m'itemconfigure'\u001b[0m\u001b[1;33m,\u001b[0m \u001b[0mtagOrId\u001b[0m\u001b[1;33m)\u001b[0m\u001b[1;33m,\u001b[0m \u001b[0mcnf\u001b[0m\u001b[1;33m,\u001b[0m \u001b[0mkw\u001b[0m\u001b[1;33m)\u001b[0m\u001b[1;33m\u001b[0m\u001b[1;33m\u001b[0m\u001b[0m\n\u001b[0m\u001b[0;32m   2579\u001b[0m     \u001b[0mitemconfig\u001b[0m \u001b[1;33m=\u001b[0m \u001b[0mitemconfigure\u001b[0m\u001b[1;33m\u001b[0m\u001b[1;33m\u001b[0m\u001b[0m\n\u001b[0;32m   2580\u001b[0m     \u001b[1;31m# lower, tkraise/lift hide Misc.lower, Misc.tkraise/lift,\u001b[0m\u001b[1;33m\u001b[0m\u001b[1;33m\u001b[0m\u001b[1;33m\u001b[0m\u001b[0m\n",
      "\u001b[1;32mC:\\ProgramData\\Anaconda3\\lib\\tkinter\\__init__.py\u001b[0m in \u001b[0;36m_configure\u001b[1;34m(self, cmd, cnf, kw)\u001b[0m\n\u001b[0;32m   1474\u001b[0m         \u001b[1;32mif\u001b[0m \u001b[0misinstance\u001b[0m\u001b[1;33m(\u001b[0m\u001b[0mcnf\u001b[0m\u001b[1;33m,\u001b[0m \u001b[0mstr\u001b[0m\u001b[1;33m)\u001b[0m\u001b[1;33m:\u001b[0m\u001b[1;33m\u001b[0m\u001b[1;33m\u001b[0m\u001b[0m\n\u001b[0;32m   1475\u001b[0m             \u001b[1;32mreturn\u001b[0m \u001b[0mself\u001b[0m\u001b[1;33m.\u001b[0m\u001b[0m_getconfigure1\u001b[0m\u001b[1;33m(\u001b[0m\u001b[0m_flatten\u001b[0m\u001b[1;33m(\u001b[0m\u001b[1;33m(\u001b[0m\u001b[0mself\u001b[0m\u001b[1;33m.\u001b[0m\u001b[0m_w\u001b[0m\u001b[1;33m,\u001b[0m \u001b[0mcmd\u001b[0m\u001b[1;33m,\u001b[0m \u001b[1;34m'-'\u001b[0m\u001b[1;33m+\u001b[0m\u001b[0mcnf\u001b[0m\u001b[1;33m)\u001b[0m\u001b[1;33m)\u001b[0m\u001b[1;33m)\u001b[0m\u001b[1;33m\u001b[0m\u001b[1;33m\u001b[0m\u001b[0m\n\u001b[1;32m-> 1476\u001b[1;33m         \u001b[0mself\u001b[0m\u001b[1;33m.\u001b[0m\u001b[0mtk\u001b[0m\u001b[1;33m.\u001b[0m\u001b[0mcall\u001b[0m\u001b[1;33m(\u001b[0m\u001b[0m_flatten\u001b[0m\u001b[1;33m(\u001b[0m\u001b[1;33m(\u001b[0m\u001b[0mself\u001b[0m\u001b[1;33m.\u001b[0m\u001b[0m_w\u001b[0m\u001b[1;33m,\u001b[0m \u001b[0mcmd\u001b[0m\u001b[1;33m)\u001b[0m\u001b[1;33m)\u001b[0m \u001b[1;33m+\u001b[0m \u001b[0mself\u001b[0m\u001b[1;33m.\u001b[0m\u001b[0m_options\u001b[0m\u001b[1;33m(\u001b[0m\u001b[0mcnf\u001b[0m\u001b[1;33m)\u001b[0m\u001b[1;33m)\u001b[0m\u001b[1;33m\u001b[0m\u001b[1;33m\u001b[0m\u001b[0m\n\u001b[0m\u001b[0;32m   1477\u001b[0m     \u001b[1;31m# These used to be defined in Widget:\u001b[0m\u001b[1;33m\u001b[0m\u001b[1;33m\u001b[0m\u001b[1;33m\u001b[0m\u001b[0m\n\u001b[0;32m   1478\u001b[0m     \u001b[1;32mdef\u001b[0m \u001b[0mconfigure\u001b[0m\u001b[1;33m(\u001b[0m\u001b[0mself\u001b[0m\u001b[1;33m,\u001b[0m \u001b[0mcnf\u001b[0m\u001b[1;33m=\u001b[0m\u001b[1;32mNone\u001b[0m\u001b[1;33m,\u001b[0m \u001b[1;33m**\u001b[0m\u001b[0mkw\u001b[0m\u001b[1;33m)\u001b[0m\u001b[1;33m:\u001b[0m\u001b[1;33m\u001b[0m\u001b[1;33m\u001b[0m\u001b[0m\n",
      "\u001b[1;31mTclError\u001b[0m: invalid command name \".!canvas\""
     ]
    }
   ],
   "source": [
    "import tkinter as tk\n",
    "import time\n",
    "gui = tk.Tk()      # инициализируем модуль\n",
    "gui.geometry(\"800x600\")   #создаем пустое окно\n",
    "gui.title(\"окошко\")\n",
    "\n",
    "#инструмент для рисования\n",
    "canvas = tk.Canvas(gui, width=800,height=600,bg='white')\n",
    "canvas.pack()\n",
    "\n",
    "list_of_balls=[]\n",
    "\n",
    "#создаем объект и задаем начальные координаты, исключающие пересечения\n",
    "cl=list(range(35*25))\n",
    "for i in range(100):\n",
    "    c=np.random.choice(cl)\n",
    "    x=c//25\n",
    "    y=c%25\n",
    "    cl.remove(c)\n",
    "    list_of_balls.append(Ball(canvas,x*20+50,y*20+50))\n",
    "\n",
    "\n",
    "i=0\n",
    "while True:\n",
    "    for ball in list_of_balls:\n",
    "        \n",
    "        # для хоть какой-то экономии ресурсов \n",
    "        # пересчитываем соседей не каждый шаг\n",
    "        if i%4==0:  \n",
    "            ball.recalc_neighb(list_of_balls)\n",
    "        ball.calc_a() #считаем ускорения\n",
    "        \n",
    "    for ball in list_of_balls:\n",
    "        ball.update_color() #обновляем цвет и двигаем\n",
    "        ball.move()\n",
    "    gui.update()\n",
    "    #time.sleep(0.001)\n",
    "    i+=1"
   ]
  },
  {
   "cell_type": "markdown",
   "metadata": {},
   "source": [
    "# Задачи\n",
    "\n",
    " 1. На основе класса `matplotlib.axes` (<a href='https://matplotlib.org/3.3.3/api/axes_api.html'>описание класса</a>) и других необходимых стороних библиотек и функций, создайте дочерний класс, который бы умел чиать csv файлы (`numpy.loadtxt`), и автоматически строил линеаризацию данных (см. первый пример в теме *Библиотека SciPy*). Добавьте автоматический вывод уравнения прямой на график, и задайте новый стандартный формат маркеров и линий (например красные ромбики и синий пунктир, или что-либо еще на ваше усмотрение). Проверьте корректность вывода на каком нибудь примере (т.е. создайте файл с зашумленной линией, сохраните его, а потом постройте данные с помощью вашего нового класса)\n",
    " \n",
    " 2. Смоделируйте поведение 1D системы из $N$ шариков разной массы, последовательно связанных друг с другом пружинками разной жесткости. Изменением цвета пружинки (линии) отображайте ее напряжение $\\frac{k \\Delta x^2}{2}$. Крайний шарик превратите в стенку, не переписывая весь класс, а лишь изменив необходимые методы или аттрибуты конкретного объекта."
   ]
  }
 ],
 "metadata": {
  "kernelspec": {
   "display_name": "Python 3",
   "language": "python",
   "name": "python3"
  },
  "language_info": {
   "codemirror_mode": {
    "name": "ipython",
    "version": 3
   },
   "file_extension": ".py",
   "mimetype": "text/x-python",
   "name": "python",
   "nbconvert_exporter": "python",
   "pygments_lexer": "ipython3",
   "version": "3.7.6"
  }
 },
 "nbformat": 4,
 "nbformat_minor": 4
}
